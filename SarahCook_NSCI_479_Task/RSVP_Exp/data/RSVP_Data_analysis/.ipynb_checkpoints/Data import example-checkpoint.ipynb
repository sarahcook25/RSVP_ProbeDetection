{
 "cells": [
  {
   "cell_type": "code",
   "execution_count": 1,
   "metadata": {},
   "outputs": [],
   "source": [
    "import sqlite3, json, os, glob\n",
    "import pandas as pd\n",
    "import numpy as np\n",
    "from scipy.stats import norm\n",
    "import matplotlib.pyplot as plt\n",
    "import seaborn as sns"
   ]
  },
  {
   "cell_type": "code",
   "execution_count": 2,
   "metadata": {},
   "outputs": [],
   "source": [
    "import statsmodels.api as sm\n",
    "from statsmodels.formula.api import ols\n"
   ]
  },
  {
   "cell_type": "code",
   "execution_count": 3,
   "metadata": {},
   "outputs": [],
   "source": [
    "import statsmodels.formula.api as smf\n",
    "import statsmodels.api as sm\n",
    "from statsmodels.stats.anova import AnovaRM\n",
    "from statsmodels.regression.mixed_linear_model import MixedLMResults"
   ]
  },
  {
   "cell_type": "code",
   "execution_count": 4,
   "metadata": {},
   "outputs": [],
   "source": [
    "from scipy import stats"
   ]
  },
  {
   "cell_type": "code",
   "execution_count": 5,
   "metadata": {},
   "outputs": [],
   "source": [
    "csv_dir_June = './Data_2021June'"
   ]
  },
  {
   "cell_type": "code",
   "execution_count": 6,
   "metadata": {},
   "outputs": [],
   "source": [
    "csv_list_June = glob.glob(os.path.join(csv_dir_June, '*csv'))\n",
    "for curr_ind, curr_csv in enumerate(csv_list_June):\n",
    "    curr_df = pd.read_csv(curr_csv)\n",
    "    if curr_ind == 0:\n",
    "        data_df_June = curr_df\n",
    "    else:\n",
    "        data_df_June = data_df_June.append(curr_df).reset_index(drop=True)\n",
    "    "
   ]
  },
  {
   "cell_type": "code",
   "execution_count": 7,
   "metadata": {},
   "outputs": [],
   "source": [
    "def clean_data(data_df):\n",
    "    outer_counter = 0\n",
    "    for curr_sess_ind, curr_sess in enumerate(data_df['session'].unique()):\n",
    "        tmp2 = data_df[data_df['session']==curr_sess]\n",
    "        counter = 0\n",
    "        for curr_block_data in tmp2['data'].values:\n",
    "            curr_df = pd.read_json(curr_block_data)\n",
    "            if counter == 0:\n",
    "                counter += 1\n",
    "                all_blocks_data = curr_df\n",
    "            else:\n",
    "                all_blocks_data = all_blocks_data.append(curr_df).reset_index(drop=True)\n",
    "        \n",
    "        urls = all_blocks_data['url'].dropna()\n",
    "        if urls.values[0]  !=  []:\n",
    "            Prolific_PID = urls.values[0]['PROLIFIC_PID']\n",
    "\n",
    "            if ('Condition' in all_blocks_data.columns) & ('response' in all_blocks_data.columns):\n",
    "\n",
    "                # Only retain the response lines\n",
    "                curr_sub_resp_data = all_blocks_data[((all_blocks_data['sender']=='Test_no_img') | \n",
    "                                         (all_blocks_data['sender']=='Test_w_img')) &\n",
    "                                       (~all_blocks_data['Condition'].isna())&\n",
    "                                       (~all_blocks_data['response'].isna())]\n",
    "                curr_sub_resp_data['PROLIFIC_PID'] = Prolific_PID\n",
    "\n",
    "                if outer_counter == 0:\n",
    "                    outer_counter += 1\n",
    "                    all_subs_resp_data = curr_sub_resp_data\n",
    "                else:\n",
    "                    all_subs_resp_data = all_subs_resp_data.append(curr_sub_resp_data).reset_index(drop=True)\n",
    "    return all_subs_resp_data"
   ]
  },
  {
   "cell_type": "code",
   "execution_count": 8,
   "metadata": {},
   "outputs": [
    {
     "name": "stderr",
     "output_type": "stream",
     "text": [
      "/Users/qilin/anaconda3/lib/python3.6/site-packages/ipykernel_launcher.py:25: SettingWithCopyWarning: \n",
      "A value is trying to be set on a copy of a slice from a DataFrame.\n",
      "Try using .loc[row_indexer,col_indexer] = value instead\n",
      "\n",
      "See the caveats in the documentation: https://pandas.pydata.org/pandas-docs/stable/user_guide/indexing.html#returning-a-view-versus-a-copy\n"
     ]
    }
   ],
   "source": [
    "subs_response_June = clean_data(data_df_June)\n"
   ]
  },
  {
   "cell_type": "markdown",
   "metadata": {},
   "source": [
    "## Determine the number of participants to include"
   ]
  },
  {
   "cell_type": "code",
   "execution_count": 9,
   "metadata": {
    "scrolled": true
   },
   "outputs": [
    {
     "data": {
      "text/plain": [
       "66"
      ]
     },
     "execution_count": 9,
     "metadata": {},
     "output_type": "execute_result"
    }
   ],
   "source": [
    "len(subs_response_June['PROLIFIC_PID'].unique())"
   ]
  },
  {
   "cell_type": "code",
   "execution_count": 10,
   "metadata": {},
   "outputs": [],
   "source": [
    "id_count_June = subs_response_June.groupby(['PROLIFIC_PID','Condition'])['sender'].count().reset_index()\n",
    "all_conds_June = id_count_June.rename(columns={'sender':'count'})"
   ]
  },
  {
   "cell_type": "code",
   "execution_count": 11,
   "metadata": {},
   "outputs": [],
   "source": [
    "block_counts_no_thresh = all_conds_June.groupby('PROLIFIC_PID').count().reset_index()"
   ]
  },
  {
   "cell_type": "code",
   "execution_count": 12,
   "metadata": {},
   "outputs": [],
   "source": [
    "subs_w_less12_blocks = block_counts_no_thresh[block_counts_no_thresh['count']<12]['PROLIFIC_PID'].unique()"
   ]
  },
  {
   "cell_type": "code",
   "execution_count": 13,
   "metadata": {},
   "outputs": [
    {
     "data": {
      "text/plain": [
       "array(['5b118915e9270900013c298c', '5e9c71729aff220278b4b044',\n",
       "       '6054b3343ec5a5210314e231', '605986be77c362e33eac85c2',\n",
       "       '605fa7167feaeaaa86844919', '60674e08ad872b4cd378a9df',\n",
       "       '6088e93caec985c1921710af', '608d8bf2625fc7fc51e78ae8',\n",
       "       '60b7e2622673b3a36a7dc3b0', '60d08b8d740bfcc4c5f6d513',\n",
       "       '60d3896732b90c075c5743f1', '60d53b2849eed3b078015d0c',\n",
       "       '60d63d070abc4e4fee085bd3', '60d73a6d8d7122148b84c67a',\n",
       "       '60d7ceb2b2211a1ed8e7a9b0', '60d87c9b65b4a1aa922c9747',\n",
       "       '60d926197259be150e9dda9b', '60dc68e0fdaf76e6ba8daa7b',\n",
       "       '60dc77a0684f892da794c91e'], dtype=object)"
      ]
     },
     "execution_count": 13,
     "metadata": {},
     "output_type": "execute_result"
    }
   ],
   "source": [
    "subs_w_less12_blocks"
   ]
  },
  {
   "cell_type": "code",
   "execution_count": 14,
   "metadata": {},
   "outputs": [],
   "source": [
    "sub_block_count_all_June = all_conds_June[all_conds_June['count']>=32*0.9].groupby('PROLIFIC_PID').count().reset_index()\n"
   ]
  },
  {
   "cell_type": "code",
   "execution_count": 15,
   "metadata": {},
   "outputs": [],
   "source": [
    "subs_w_imcomplete_blocks = all_conds_June[all_conds_June['count']<32*0.9]['PROLIFIC_PID'].unique()"
   ]
  },
  {
   "cell_type": "code",
   "execution_count": 16,
   "metadata": {},
   "outputs": [
    {
     "data": {
      "text/plain": [
       "['5c808557e07cd1001628cd77']"
      ]
     },
     "execution_count": 16,
     "metadata": {},
     "output_type": "execute_result"
    }
   ],
   "source": [
    "[k for k in subs_w_imcomplete_blocks if k not in subs_w_less12_blocks]"
   ]
  },
  {
   "cell_type": "markdown",
   "metadata": {},
   "source": [
    "# Determine the number of remaining participants based on the conditions included"
   ]
  },
  {
   "cell_type": "code",
   "execution_count": 17,
   "metadata": {},
   "outputs": [],
   "source": [
    "tmp_subs_to_lookat_allconds_June = sub_block_count_all_June[sub_block_count_all_June['count']==12]['PROLIFIC_PID'].values\n",
    "# Lets find out who came in last (we had one more participant)\n",
    "timestamp_June = subs_response_June[subs_response_June['PROLIFIC_PID'].isin(tmp_subs_to_lookat_allconds_June)].drop_duplicates(subset=['PROLIFIC_PID']).sort_values(by=['timestamp'])\n",
    "subs_to_lookat_allconds_June = timestamp_June['PROLIFIC_PID'].values[:-1]"
   ]
  },
  {
   "cell_type": "code",
   "execution_count": 18,
   "metadata": {},
   "outputs": [
    {
     "data": {
      "text/plain": [
       "46"
      ]
     },
     "execution_count": 18,
     "metadata": {},
     "output_type": "execute_result"
    }
   ],
   "source": [
    "len(tmp_subs_to_lookat_allconds_June)"
   ]
  },
  {
   "cell_type": "code",
   "execution_count": 19,
   "metadata": {},
   "outputs": [
    {
     "data": {
      "text/plain": [
       "45"
      ]
     },
     "execution_count": 19,
     "metadata": {},
     "output_type": "execute_result"
    }
   ],
   "source": [
    "len(subs_to_lookat_allconds_June)"
   ]
  },
  {
   "cell_type": "code",
   "execution_count": 20,
   "metadata": {},
   "outputs": [],
   "source": [
    "# Reorganize trials \n",
    "def calc_performance(subj_ID, data_all):\n",
    "    \n",
    "    curr_sub_df = data_all[data_all['PROLIFIC_PID']==subj_ID]\n",
    "    curr_sub_df['img_duration'] = [int(k[-1]) for k in curr_sub_df['Condition'].str.split('_')]\n",
    "    duration_list = curr_sub_df['img_duration'].unique()\n",
    "    \n",
    "    curr_perf_df = pd.DataFrame(columns=['sub','duration', 'hit','fa', 'dprime'])\n",
    "    \n",
    "    curr_dur_df_yes = curr_sub_df[curr_sub_df['TrialType']=='YES']\n",
    "\n",
    "    curr_dur_df_no = curr_sub_df[curr_sub_df['TrialType']=='NO']     \n",
    "    curr_perf_df.loc[len(curr_perf_df)]={'sub': subj_ID,\n",
    "                                                 'duration':'all',\n",
    "                                                 'hit':np.round(np.sum(curr_dur_df_yes['response']=='YES')/len(curr_dur_df_yes),3),\n",
    "                                                 'fa':np.round(np.sum(curr_dur_df_no['response']=='YES')/len(curr_dur_df_no),3),\n",
    "                                                 'dprime':np.round(norm.ppf(np.sum(curr_dur_df_yes['response']=='YES')/len(curr_dur_df_yes))-norm.ppf(np.sum(curr_dur_df_no['response']=='YES')/len(curr_dur_df_no)),3)\n",
    "                \n",
    "            }\n",
    "    \n",
    "    for duration in duration_list:\n",
    "            curr_dur_df_yes = curr_sub_df[(curr_sub_df['img_duration']==duration)&\n",
    "                                         (curr_sub_df['TrialType']=='YES')]\n",
    "\n",
    "            curr_dur_df_no = curr_sub_df[(curr_sub_df['img_duration']==duration)&\n",
    "                                         (curr_sub_df['TrialType']=='NO')]           \n",
    "            \n",
    "            \n",
    "            \n",
    "            curr_perf_df.loc[len(curr_perf_df)]={'sub': subj_ID,\n",
    "                                                 'duration':duration,\n",
    "                                                 'hit':np.round(np.sum(curr_dur_df_yes['response']=='YES')/len(curr_dur_df_yes),3),\n",
    "                                                 'fa':np.round(np.sum(curr_dur_df_no['response']=='YES')/len(curr_dur_df_no),3),\n",
    "                                                 'dprime':np.round(norm.ppf(np.sum(curr_dur_df_yes['response']=='YES')/len(curr_dur_df_yes))-norm.ppf(np.sum(curr_dur_df_no['response']=='YES')/len(curr_dur_df_no)),3)\n",
    "                \n",
    "                                                }\n",
    "    \n",
    "        \n",
    "    return curr_perf_df"
   ]
  },
  {
   "cell_type": "code",
   "execution_count": 21,
   "metadata": {},
   "outputs": [],
   "source": [
    "# Reorganize trials \n",
    "def calc_performance_target(subj_ID, data_all):\n",
    "    \n",
    "   \n",
    "    curr_sub_df = data_all[data_all['PROLIFIC_PID']==subj_ID]\n",
    "    \n",
    "    condition_list = curr_sub_df['Condition'].unique()        \n",
    "    \n",
    "    curr_perf_df = pd.DataFrame(columns=['sub','condition', 'hit','fa', 'dprime'])\n",
    "    \n",
    "    for condition in condition_list:\n",
    "        curr_dur_df_yes = curr_sub_df[(curr_sub_df['Condition']==condition)&\n",
    "                                     (curr_sub_df['TrialType']=='YES')]\n",
    "\n",
    "        curr_dur_df_no = curr_sub_df[(curr_sub_df['Condition']==condition)&\n",
    "                                     (curr_sub_df['TrialType']=='NO')] \n",
    "        total_trials = len(curr_dur_df_yes) + len(curr_dur_df_no)\n",
    "\n",
    "        curr_hit = np.round(np.sum(curr_dur_df_yes['response']=='YES')/len(curr_dur_df_yes),3)\n",
    "        curr_fa = np.round(np.sum(curr_dur_df_no['response']=='YES')/len(curr_dur_df_no),3)\n",
    "\n",
    "        if curr_hit == 1:\n",
    "            curr_hit = 1-1/(2*total_trials)\n",
    "        elif curr_hit == 0:\n",
    "            curr_hit = 1/(2*total_trials)\n",
    "\n",
    "        if curr_fa == 1:\n",
    "            curr_fa = 1-1/(2*total_trials)\n",
    "        elif curr_fa == 0:\n",
    "            curr_fa = 1/(2*total_trials)\n",
    "\n",
    "        curr_perf_df.loc[len(curr_perf_df)]={'sub': subj_ID,\n",
    "                                             'condition':condition,\n",
    "                                             'hit':curr_hit,\n",
    "                                             'fa':curr_fa,\n",
    "                                             'dprime':np.round(norm.ppf(curr_hit)-norm.ppf(curr_fa),3)\n",
    "\n",
    "        }\n",
    "\n",
    "        \n",
    "    \n",
    "    curr_perf_df['duration'] = [int(k[-1]) for k in curr_perf_df['condition'].str.split('_')]\n",
    "    curr_perf_df['property'] = curr_perf_df['condition'].str[:19]\n",
    "    curr_perf_df['Dist'] = [k[1] for k in curr_perf_df['property'].str.split('_')]\n",
    "    curr_perf_df['RE'] = [k[3] for k in curr_perf_df['property'].str.split('_')]\n",
    "        \n",
    "    return curr_perf_df"
   ]
  },
  {
   "cell_type": "code",
   "execution_count": 22,
   "metadata": {},
   "outputs": [],
   "source": [
    "# Summarize performance for a list of subjects\n",
    "def calc_performance_group(df, sub_list):\n",
    "    counter=0\n",
    "    df_filterd = df[df['PROLIFIC_PID'].isin(sub_list)]\n",
    "    for curr_sub in sub_list:\n",
    "        curr_df = calc_performance(curr_sub, df_filterd)\n",
    "        if counter == 0:\n",
    "            counter += 1\n",
    "            all_sub_df = curr_df\n",
    "        else:\n",
    "            all_sub_df = all_sub_df.append(curr_df).reset_index(drop=True)\n",
    "    return all_sub_df"
   ]
  },
  {
   "cell_type": "code",
   "execution_count": 23,
   "metadata": {},
   "outputs": [],
   "source": [
    "# Summarize performance separately for each condition for a list of subjects\n",
    "def calc_performance_target_group(df, sub_list):\n",
    "    counter=0\n",
    "    df_filterd = df[df['PROLIFIC_PID'].isin(sub_list)]\n",
    "    for curr_sub in sub_list:\n",
    "        curr_df = calc_performance_target(curr_sub, df_filterd)\n",
    "        if counter == 0:\n",
    "            counter += 1\n",
    "            all_sub_df = curr_df\n",
    "        else:\n",
    "            all_sub_df = all_sub_df.append(curr_df).reset_index(drop=True)\n",
    "    return all_sub_df"
   ]
  },
  {
   "cell_type": "code",
   "execution_count": 24,
   "metadata": {},
   "outputs": [
    {
     "name": "stderr",
     "output_type": "stream",
     "text": [
      "/Users/qilin/anaconda3/lib/python3.6/site-packages/ipykernel_launcher.py:5: SettingWithCopyWarning: \n",
      "A value is trying to be set on a copy of a slice from a DataFrame.\n",
      "Try using .loc[row_indexer,col_indexer] = value instead\n",
      "\n",
      "See the caveats in the documentation: https://pandas.pydata.org/pandas-docs/stable/user_guide/indexing.html#returning-a-view-versus-a-copy\n",
      "  \"\"\"\n"
     ]
    }
   ],
   "source": [
    "June_summary_all = calc_performance_group(subs_response_June, subs_to_lookat_allconds_June)\n",
    "June_summary_all['Batch'] = 'June'"
   ]
  },
  {
   "cell_type": "code",
   "execution_count": 28,
   "metadata": {},
   "outputs": [
    {
     "data": {
      "text/plain": [
       "<Figure size 432x432 with 0 Axes>"
      ]
     },
     "metadata": {},
     "output_type": "display_data"
    },
    {
     "data": {
      "image/png": "[encoded data removed]",
      "text/plain": [
       "<Figure size 360x360 with 1 Axes>"
      ]
     },
     "metadata": {
      "needs_background": "light"
     },
     "output_type": "display_data"
    }
   ],
   "source": [
    "plt.figure(figsize=(6,6))\n",
    "targets_axes = sns.catplot(x='duration',y='dprime',\n",
    "            kind = 'point',col='Batch',\n",
    "              data=June_summary_all[June_summary_all['duration']!='all'])"
   ]
  },
  {
   "cell_type": "code",
   "execution_count": 29,
   "metadata": {},
   "outputs": [],
   "source": [
    "June_summary_targets = calc_performance_target_group(subs_response_June, subs_to_lookat_allconds_June)\n",
    "June_summary_targets['Batch'] = 'June'"
   ]
  },
  {
   "cell_type": "code",
   "execution_count": 30,
   "metadata": {
    "scrolled": false
   },
   "outputs": [
    {
     "data": {
      "text/plain": [
       "<Figure size 432x432 with 0 Axes>"
      ]
     },
     "metadata": {},
     "output_type": "display_data"
    },
    {
     "data": {
      "image/png": "[encoded data removed]",
      "text/plain": [
       "<Figure size 500.375x360 with 1 Axes>"
      ]
     },
     "metadata": {
      "needs_background": "light"
     },
     "output_type": "display_data"
    }
   ],
   "source": [
    "plt.figure(figsize=(6,6))\n",
    "targets_axes = sns.catplot(x='duration',y='hit',hue='property', hue_order=['Dist_Large_RE_Large','Dist_Large_RE_Small',\n",
    "                                                             'Dist_Small_RE_Large','Dist_Small_RE_Small'],\n",
    "            kind = 'point',col='Batch',\n",
    "              data=June_summary_targets)\n",
    "sns.despine(top=True, right=True)"
   ]
  }
 ],
 "metadata": {
  "kernelspec": {
   "display_name": "Python 3",
   "language": "python",
   "name": "python3"
  },
  "language_info": {
   "codemirror_mode": {
    "name": "ipython",
    "version": 3
   },
   "file_extension": ".py",
   "mimetype": "text/x-python",
   "name": "python",
   "nbconvert_exporter": "python",
   "pygments_lexer": "ipython3",
   "version": "3.6.9"
  }
 },
 "nbformat": 4,
 "nbformat_minor": 4
}
